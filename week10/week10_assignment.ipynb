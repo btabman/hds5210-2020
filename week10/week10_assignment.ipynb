{
 "cells": [
  {
   "cell_type": "markdown",
   "metadata": {},
   "source": [
    "# Week 10 Assignment"
   ]
  },
  {
   "cell_type": "markdown",
   "metadata": {},
   "source": [
    "We had two major areas of discussion this week.  The first was all about how to work with string data - parsing and splitting strings using basic string fuctions as well as more complex string matching using regular expressions.  The second was a basic introduction to Pandas with a few different examples of how to load data into Pandas and then visualize it using graphs (histogram, distribution, scatter, bar, timeseries).\n",
    "\n",
    "* 36.1 - 1 point\n",
    "* 36.2 - 1 point\n",
    "* 38.1 - 3 points"
   ]
  },
  {
   "cell_type": "markdown",
   "metadata": {},
   "source": [
    "## 36.1 String Manipulation\n",
    "\n",
    "Write a function that will parse an address that includes one or two parts of street information, a city, a state, and a zip code -- all separated by commas.  You can assume that commas won't appear as part of the address information, only as a delimiter.  Here are some examples:\n",
    "\n",
    "823 Pebble Street, St. Louis, MO 63105\n",
    "\n",
    "91 Cityplace, Suite #33, St. Louis, MO 63144\n",
    "\n",
    "81234 Homeroad, Kansas City, MO 62441\n",
    "\n",
    "\n",
    "The output you should generate will be a dictionary with the following possible items.\n",
    "\n",
    "```\n",
    "{\n",
    "  'street1': '91 Cityplace',\n",
    "  'street2': 'Suite #33',\n",
    "  'city': 'St. Louis',\n",
    "  'state': 'MO',\n",
    "  'zip': '63122'\n",
    "}\n",
    "```\n",
    "\n",
    "Declare your function like this:\n",
    "```\n",
    "parse_address(address)\n",
    "```"
   ]
  },
  {
   "cell_type": "code",
   "execution_count": 128,
   "metadata": {},
   "outputs": [],
   "source": [
    "### YOUR SOLUTION\n",
    "import re\n",
    "def parse_address(address):  \n",
    "    \"\"\"\n",
    "    \n",
    "    \"\"\"\n",
    "    zipcode = address[len(address) - 5:]\n",
    "    if \"-\" in zipcode:\n",
    "        zipcode = re.search('[0-9]{5}-[0-9]{4}$',address).group(0)\n",
    "        \n",
    "    if \",\" in address[-(len(zipcode)+2):]:\n",
    "        comma_after_state = True\n",
    "    else:\n",
    "        comma_after_state = False\n",
    "\n",
    "    address_fields = address.split(\",\")\n",
    "    \n",
    "    street1 = address_fields[0]\n",
    "    \n",
    "    if ( ( len(address_fields) == 4 & comma_after_state == False ) | ( len(address_fields) > 4 ) ):\n",
    "        street2 = address_fields[1]\n",
    "        city = address_fields[2]\n",
    "    else:\n",
    "        street2 = \"\"\n",
    "        city = address_fields[1]\n",
    "        \n",
    "    if (comma_after_state == True):\n",
    "        state = address_fields[len(address_fields)-2]\n",
    "        if ( len(address_fields) > 4 ):\n",
    "            street2 = address_fields[1]\n",
    "            city = address_fields[2]\n",
    "        else:\n",
    "            street2 = \"\"\n",
    "            city = address_fields[1]\n",
    "    else:\n",
    "        state = address_fields[len(address_fields)-1].strip().split(\" \")[0]\n",
    "        if ( len(address_fields) == 4 ):\n",
    "            street2 = address_fields[1]\n",
    "            city = address_fields[2]\n",
    "        else:\n",
    "            street2 = \"\"\n",
    "            city = address_fields[1]\n",
    "        \n",
    "    address_dict = {\n",
    "        \"street1\" : street1.strip(),\n",
    "        \"street2\": street2.strip(),\n",
    "        \"city\": city.strip(),\n",
    "        \"state\": state.strip(),\n",
    "        \"zip\": zipcode.strip()\n",
    "    }\n",
    "    return address_dict"
   ]
  },
  {
   "cell_type": "markdown",
   "metadata": {},
   "source": [
    "## 36.2 Test the Address Parser\n",
    "\n",
    "Now write a series of good tests to ensure that your addres parser is going to work with a variety of different inputs.  Include at least 5 different examples."
   ]
  },
  {
   "cell_type": "code",
   "execution_count": 129,
   "metadata": {},
   "outputs": [
    {
     "data": {
      "text/plain": [
       "{'street1': '823 Pebble Street',\n",
       " 'street2': '',\n",
       " 'city': 'St. Louis',\n",
       " 'state': 'MO',\n",
       " 'zip': '63105'}"
      ]
     },
     "execution_count": 129,
     "metadata": {},
     "output_type": "execute_result"
    }
   ],
   "source": [
    "### import re\n",
    "parse_address(\"823 Pebble Street, St. Louis, MO 63105\")"
   ]
  },
  {
   "cell_type": "code",
   "execution_count": 130,
   "metadata": {},
   "outputs": [
    {
     "data": {
      "text/plain": [
       "{'street1': '823 Pebble Street',\n",
       " 'street2': '',\n",
       " 'city': 'St. Louis',\n",
       " 'state': 'MO',\n",
       " 'zip': '63105'}"
      ]
     },
     "execution_count": 130,
     "metadata": {},
     "output_type": "execute_result"
    }
   ],
   "source": [
    "parse_address(\"823 Pebble Street, St. Louis, MO, 63105\")"
   ]
  },
  {
   "cell_type": "code",
   "execution_count": 131,
   "metadata": {},
   "outputs": [
    {
     "data": {
      "text/plain": [
       "{'street1': '91 Cityplace',\n",
       " 'street2': 'Suite #33',\n",
       " 'city': 'St. Louis',\n",
       " 'state': 'MO',\n",
       " 'zip': '63144'}"
      ]
     },
     "execution_count": 131,
     "metadata": {},
     "output_type": "execute_result"
    }
   ],
   "source": [
    "parse_address(\"91 Cityplace, Suite #33, St. Louis, MO 63144\")"
   ]
  },
  {
   "cell_type": "code",
   "execution_count": 132,
   "metadata": {},
   "outputs": [
    {
     "data": {
      "text/plain": [
       "{'street1': '91 Cityplace',\n",
       " 'street2': 'Suite #33',\n",
       " 'city': 'St. Louis',\n",
       " 'state': 'MO',\n",
       " 'zip': '63144'}"
      ]
     },
     "execution_count": 132,
     "metadata": {},
     "output_type": "execute_result"
    }
   ],
   "source": [
    "parse_address(\"91 Cityplace, Suite #33, St. Louis, MO, 63144\")"
   ]
  },
  {
   "cell_type": "code",
   "execution_count": 133,
   "metadata": {},
   "outputs": [
    {
     "data": {
      "text/plain": [
       "{'street1': '81234 Homeroad',\n",
       " 'street2': '',\n",
       " 'city': 'Kansas City',\n",
       " 'state': 'MO',\n",
       " 'zip': '62441-0240'}"
      ]
     },
     "execution_count": 133,
     "metadata": {},
     "output_type": "execute_result"
    }
   ],
   "source": [
    "parse_address(\"81234 Homeroad, Kansas City, MO 62441-0240\")"
   ]
  },
  {
   "cell_type": "code",
   "execution_count": 134,
   "metadata": {},
   "outputs": [
    {
     "data": {
      "text/plain": [
       "{'street1': '81234 Homeroad',\n",
       " 'street2': '',\n",
       " 'city': 'Kansas City',\n",
       " 'state': 'MO',\n",
       " 'zip': '62441-0240'}"
      ]
     },
     "execution_count": 134,
     "metadata": {},
     "output_type": "execute_result"
    }
   ],
   "source": [
    "parse_address(\"81234 Homeroad, Kansas City, MO, 62441-0240\")"
   ]
  },
  {
   "cell_type": "markdown",
   "metadata": {},
   "source": [
    "## 38.1 COVID-19 Trend Data\n",
    "\n",
    "Since we're dealing with a global pandemic right now, probably good to go ahead and do some anlysis with that data.  Take a look at what's here: https://ourworldindata.org/covid-sources-comparison\n",
    "\n",
    "Near the middle of the page, there are two charts with some data.  On the left is \"positive cases\" and on the right is \"deaths.\"  Both charts have a button that says \"Data.\"  What you will do below is write a series of Python commands (doesn't need to be in a function) to read that data and produce a simple timeseries chart using the information from John's Hopkins.  Your code will need to read the data, possibly do some reformatting, and then produce a simple timeseries chart.\n",
    "\n",
    "(Unfortunately, the tools used on this website don't make it easy to link to and directly download the data, so I've placed a copy in `/data/covid19.xlsx` for you to access.  This file came from one of the underlying sources: https://www.ecdc.europa.eu/en/publications-data/download-todays-data-geographic-distribution-covid-19-cases-worldwide)"
   ]
  },
  {
   "cell_type": "code",
   "execution_count": 32,
   "metadata": {},
   "outputs": [
    {
     "data": {
      "text/plain": [
       "Text(0, 0.5, 'Number of Cases')"
      ]
     },
     "execution_count": 32,
     "metadata": {},
     "output_type": "execute_result"
    },
    {
     "data": {
      "image/png": "[encoded data removed]",
      "text/plain": [
       "<Figure size 432x288 with 1 Axes>"
      ]
     },
     "metadata": {
      "needs_background": "light"
     },
     "output_type": "display_data"
    }
   ],
   "source": [
    "import pandas as pd\n",
    "import matplotlib.pyplot as plt\n",
    "pd.options.display.max_rows\n",
    "pd.set_option('display.max_rows', None)\n",
    "\n",
    "data = pd.read_excel('covid19.xlsx')\n",
    "df = pd.DataFrame(data)\n",
    "df = df.groupby(['DateRep']).sum()[['Cases']]\n",
    "df['Cumulative Cases'] = df['Cases'].cumsum()\n",
    "df = df.rename(columns = {\"DateRep\":\"Date\",\"Cases\":\"New Cases\"})\n",
    "dataplot = df.plot(title='Worldwide COVID-19 Cases from ECDC Data')\n",
    "dataplot.set_xlabel(\"Date\")\n",
    "dataplot.set_ylabel(\"Number of Cases\")"
   ]
  },
  {
   "cell_type": "markdown",
   "metadata": {},
   "source": [
    "One hint that you might find helpful while working on this is that the data in this file is the number of cases each week, not the running total.  You will want to plot a running total.\n",
    "\n",
    "To do so, pandas has a `.cumsum()` method that you can use after doing a `groupby` and a `.sum()` somewhat similar to the last example of the pandas-viz.ipynb file (except in that example, it's doing a `mean()` instead of `sum()` and a `rolling()` instead of `cumsum()`.)  This link might also provide a little guidance: https://stackoverflow.com/questions/48739374/pandas-plot-cumulative-sum-of-counters-over-time"
   ]
  },
  {
   "cell_type": "markdown",
   "metadata": {},
   "source": [
    "## Extra Challenges\n",
    "\n",
    "Take the same data, but not start looking at it by country.  Do some groupbys.\n",
    "\n",
    "Or take the same data and look at the mortality rate (deaths / total reported cases) and see how that is different by country or trending over time."
   ]
  },
  {
   "cell_type": "code",
   "execution_count": 51,
   "metadata": {},
   "outputs": [
    {
     "data": {
      "image/png": "[encoded data removed]",
      "text/plain": [
       "<Figure size 432x288 with 1 Axes>"
      ]
     },
     "metadata": {
      "needs_background": "light"
     },
     "output_type": "display_data"
    }
   ],
   "source": [
    "import matplotlib.ticker as mtick\n",
    "from matplotlib.ticker import PercentFormatter\n",
    "\n",
    "pd.options.display.max_rows\n",
    "pd.set_option('display.max_rows', None)\n",
    "\n",
    "data = pd.read_excel('covid19.xlsx')\n",
    "df = pd.DataFrame(data)\n",
    "df = df.groupby(['DateRep']).sum()[['Cases', 'Deaths']]\n",
    "df2 = pd.DataFrame({\"Cumulative Cases\":  df['Cases'].cumsum(), \"Cumulative Deaths\" : df['Deaths'].cumsum()})\n",
    "df2[\"Death Rate\"] = df2['Cumulative Deaths']/df2['Cumulative Cases']\n",
    "dataplot = df2.plot(y = ['Death Rate'],title='Worldwide COVID-19 Death Rate from ECDC Data')\n",
    "dataplot.set_xlabel(\"Date\")\n",
    "dataplot.set_ylabel(\"Death Rate\")\n",
    "dataplot.yaxis.set_major_formatter(PercentFormatter(1))\n"
   ]
  }
 ],
 "metadata": {
  "kernelspec": {
   "display_name": "Python 3",
   "language": "python",
   "name": "python3"
  },
  "language_info": {
   "codemirror_mode": {
    "name": "ipython",
    "version": 3
   },
   "file_extension": ".py",
   "mimetype": "text/x-python",
   "name": "python",
   "nbconvert_exporter": "python",
   "pygments_lexer": "ipython3",
   "version": "3.6.7"
  }
 },
 "nbformat": 4,
 "nbformat_minor": 4
}
