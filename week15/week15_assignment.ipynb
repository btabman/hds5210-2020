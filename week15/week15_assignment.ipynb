{
 "cells": [
  {
   "cell_type": "markdown",
   "metadata": {
    "nbgrader": {
     "grade": false,
     "grade_id": "intro",
     "locked": true,
     "schema_version": 1,
     "solution": false
    }
   },
   "source": [
    "# Working with a database\n",
    "\n",
    "This week's assignment has a few basic steps.  First, we're going to pull some data down off the internet and store it into our MySQL database.  Make sure that you use your username as part of the table name as show in the examples so that you don't create a problem for other students.\n",
    "\n",
    "Then, we'll merge that with some data already in the database and calculate a few results.  When it comes to calculating the results, you can do so either with SQL or with Pandas operations.\n"
   ]
  },
  {
   "cell_type": "markdown",
   "metadata": {
    "nbgrader": {
     "grade": false,
     "grade_id": "q01-intro",
     "locked": true,
     "schema_version": 1,
     "solution": false
    }
   },
   "source": [
    "## PART 1: Setup your database connection and table name\n",
    "\n",
    "In the code below, change the value of the variable `MYTABLE` to use your own username rather that `'pboal'`\n",
    "\n",
    "You can then use `MYTABLE` in the rest of your code to reference that table name."
   ]
  },
  {
   "cell_type": "code",
   "execution_count": 139,
   "metadata": {
    "nbgrader": {
     "grade": false,
     "grade_id": "q01-solution",
     "locked": false,
     "schema_version": 1,
     "solution": true
    }
   },
   "outputs": [],
   "source": [
    "#!#!#!#!#!#!#!#!#!#!#!#!#!#!#!#!#!#!#!#!#!#!#!#!#!#!#!#!#!#!\n",
    "# First, put in your user name below\n",
    "#!#!#!#!#!#!#!#!#!#!#!#!#!#!#!#!#!#!#!#!#!#!#!#!#!#!#!#!#!#!\n",
    "\n",
    "MYTABLE='btabman' + '_data'\n"
   ]
  },
  {
   "cell_type": "code",
   "execution_count": 140,
   "metadata": {},
   "outputs": [],
   "source": [
    "import os\n",
    "import pymysql\n",
    "from sqlalchemy import create_engine\n",
    "import pandas as pd\n",
    "\n",
    "# Then, create a connection to the same database, using the \n",
    "# same user name and password in the `mysql-examples.ipynb` \n",
    "# file.  Use conn as the database connection variable.\n",
    "\n",
    "host = 'slucor2020.cgdcoitnku0k.us-east-1.rds.amazonaws.com'\n",
    "port = '3306'\n",
    "user = 'slucor2020'\n",
    "password = 'SLUcor2020'\n",
    "database = 'hds5210'\n",
    "\n",
    "conn = create_engine('mysql+pymysql://' + \n",
    "                     user + ':' + \n",
    "                     password + '@' + \n",
    "                     host + '/' + \n",
    "                     database, echo=False)"
   ]
  },
  {
   "cell_type": "code",
   "execution_count": 5,
   "metadata": {
    "nbgrader": {
     "grade": true,
     "grade_id": "q01-tests",
     "locked": true,
     "points": 5,
     "schema_version": 1,
     "solution": false
    }
   },
   "outputs": [],
   "source": [
    "assert(MYTABLE != 'paulboal_data')\n",
    "assert(conn.connect())"
   ]
  },
  {
   "cell_type": "markdown",
   "metadata": {
    "nbgrader": {
     "grade": false,
     "grade_id": "q02-intro",
     "locked": true,
     "schema_version": 1,
     "solution": false
    }
   },
   "source": [
    "## PART 2: Bring in outside data\n",
    "\n",
    "Grab the data from this URL and put it into a database table named with your `username_data`.\n",
    "\n",
    "http://dhcs-chhsagency.opendata.arcgis.com/datasets/8e4f3a0c75b9424d888d11c1f949cc32_0.csv\n",
    "\n",
    "By the end of your cell, the table should be created.  The tests are going to verify that the table exists and looks right."
   ]
  },
  {
   "cell_type": "code",
   "execution_count": 69,
   "metadata": {
    "nbgrader": {
     "grade": false,
     "grade_id": "q02-solution",
     "locked": false,
     "schema_version": 1,
     "solution": true
    }
   },
   "outputs": [
    {
     "data": {
      "text/html": [
       "<div>\n",
       "<style scoped>\n",
       "    .dataframe tbody tr th:only-of-type {\n",
       "        vertical-align: middle;\n",
       "    }\n",
       "\n",
       "    .dataframe tbody tr th {\n",
       "        vertical-align: top;\n",
       "    }\n",
       "\n",
       "    .dataframe thead th {\n",
       "        text-align: right;\n",
       "    }\n",
       "</style>\n",
       "<table border=\"1\" class=\"dataframe\">\n",
       "  <thead>\n",
       "    <tr style=\"text-align: right;\">\n",
       "      <th></th>\n",
       "      <th>Provider_Name</th>\n",
       "      <th>NPI</th>\n",
       "      <th>CCN</th>\n",
       "      <th>Medicaid_EP_Hospital_Type</th>\n",
       "      <th>Street_Address</th>\n",
       "      <th>City</th>\n",
       "      <th>County</th>\n",
       "      <th>State</th>\n",
       "      <th>Zip_Code</th>\n",
       "      <th>Payment_Year_Number</th>\n",
       "      <th>Program_Type</th>\n",
       "      <th>Total_payments</th>\n",
       "      <th>Last_Program_Year</th>\n",
       "      <th>Last_Payment_Year</th>\n",
       "      <th>Last_Payment_Criteria</th>\n",
       "      <th>Most_Recent_Disbursement_Amount</th>\n",
       "      <th>LONGITUDE</th>\n",
       "      <th>LATITUDE</th>\n",
       "      <th>FID</th>\n",
       "    </tr>\n",
       "  </thead>\n",
       "  <tbody>\n",
       "    <tr>\n",
       "      <th>0</th>\n",
       "      <td>Sutter Bay Hospitals</td>\n",
       "      <td>1659439834</td>\n",
       "      <td>50008</td>\n",
       "      <td>Acute Care Hospitals</td>\n",
       "      <td>CASTRO &amp; DUBOCE STS</td>\n",
       "      <td>SAN FRANCISCO</td>\n",
       "      <td>San Francisco</td>\n",
       "      <td>CA</td>\n",
       "      <td>94114</td>\n",
       "      <td>3</td>\n",
       "      <td>Medicare/Medicaid</td>\n",
       "      <td>638474</td>\n",
       "      <td>2015</td>\n",
       "      <td>2017</td>\n",
       "      <td>MU</td>\n",
       "      <td>70942</td>\n",
       "      <td>-122.435802</td>\n",
       "      <td>37.769062</td>\n",
       "      <td>1</td>\n",
       "    </tr>\n",
       "    <tr>\n",
       "      <th>1</th>\n",
       "      <td>PRIME HEALTHCARE SERVICES - GARDEN GROVE LLC</td>\n",
       "      <td>1659538858</td>\n",
       "      <td>50230</td>\n",
       "      <td>Acute Care Hospitals</td>\n",
       "      <td>12601 GARDEN GROVE BLVD</td>\n",
       "      <td>GARDEN GROVE</td>\n",
       "      <td>Orange</td>\n",
       "      <td>CA</td>\n",
       "      <td>92843</td>\n",
       "      <td>4</td>\n",
       "      <td>Medicare/Medicaid</td>\n",
       "      <td>3947489</td>\n",
       "      <td>2014</td>\n",
       "      <td>2015</td>\n",
       "      <td>MU</td>\n",
       "      <td>394749</td>\n",
       "      <td>-117.913856</td>\n",
       "      <td>33.774499</td>\n",
       "      <td>2</td>\n",
       "    </tr>\n",
       "    <tr>\n",
       "      <th>2</th>\n",
       "      <td>ST MARY MEDICAL CENTER</td>\n",
       "      <td>1669456299</td>\n",
       "      <td>50300</td>\n",
       "      <td>Acute Care Hospitals</td>\n",
       "      <td>18300 US HIGHWAY 18</td>\n",
       "      <td>APPLE VALLEY</td>\n",
       "      <td>San Bernardino</td>\n",
       "      <td>CA</td>\n",
       "      <td>92307</td>\n",
       "      <td>3</td>\n",
       "      <td>Medicare/Medicaid</td>\n",
       "      <td>3062645</td>\n",
       "      <td>2014</td>\n",
       "      <td>2015</td>\n",
       "      <td>MU</td>\n",
       "      <td>340294</td>\n",
       "      <td>-117.262672</td>\n",
       "      <td>34.539918</td>\n",
       "      <td>3</td>\n",
       "    </tr>\n",
       "    <tr>\n",
       "      <th>3</th>\n",
       "      <td>MADERA COMMUNITY HOSPITAL</td>\n",
       "      <td>1669673646</td>\n",
       "      <td>50568</td>\n",
       "      <td>Acute Care Hospitals</td>\n",
       "      <td>1250 E ALMOND AVE</td>\n",
       "      <td>MADERA</td>\n",
       "      <td>Madera</td>\n",
       "      <td>CA</td>\n",
       "      <td>93637</td>\n",
       "      <td>4</td>\n",
       "      <td>Medicare/Medicaid</td>\n",
       "      <td>2057365</td>\n",
       "      <td>2015</td>\n",
       "      <td>2016</td>\n",
       "      <td>MU</td>\n",
       "      <td>205737</td>\n",
       "      <td>-120.045618</td>\n",
       "      <td>36.945447</td>\n",
       "      <td>4</td>\n",
       "    </tr>\n",
       "    <tr>\n",
       "      <th>4</th>\n",
       "      <td>Temecula Valley Hospital Inc</td>\n",
       "      <td>1679816201</td>\n",
       "      <td>50775</td>\n",
       "      <td>Acute Care Hospitals</td>\n",
       "      <td>31700 TEMECULA PKWY</td>\n",
       "      <td>TEMECULA</td>\n",
       "      <td>Riverside</td>\n",
       "      <td>CA</td>\n",
       "      <td>92592</td>\n",
       "      <td>1</td>\n",
       "      <td>Medicare/Medicaid</td>\n",
       "      <td>474790</td>\n",
       "      <td>2016</td>\n",
       "      <td>2017</td>\n",
       "      <td>AIU</td>\n",
       "      <td>474790</td>\n",
       "      <td>-117.117197</td>\n",
       "      <td>33.470664</td>\n",
       "      <td>5</td>\n",
       "    </tr>\n",
       "    <tr>\n",
       "      <th>...</th>\n",
       "      <td>...</td>\n",
       "      <td>...</td>\n",
       "      <td>...</td>\n",
       "      <td>...</td>\n",
       "      <td>...</td>\n",
       "      <td>...</td>\n",
       "      <td>...</td>\n",
       "      <td>...</td>\n",
       "      <td>...</td>\n",
       "      <td>...</td>\n",
       "      <td>...</td>\n",
       "      <td>...</td>\n",
       "      <td>...</td>\n",
       "      <td>...</td>\n",
       "      <td>...</td>\n",
       "      <td>...</td>\n",
       "      <td>...</td>\n",
       "      <td>...</td>\n",
       "      <td>...</td>\n",
       "    </tr>\n",
       "    <tr>\n",
       "      <th>323</th>\n",
       "      <td>KAISER FOUNDATION HOSPITALS</td>\n",
       "      <td>1326119967</td>\n",
       "      <td>50071</td>\n",
       "      <td>Acute Care Hospitals</td>\n",
       "      <td>700 LAWRENCE EXPY</td>\n",
       "      <td>SANTA CLARA</td>\n",
       "      <td>Santa Clara</td>\n",
       "      <td>CA</td>\n",
       "      <td>95051</td>\n",
       "      <td>1</td>\n",
       "      <td>Medicare/Medicaid</td>\n",
       "      <td>339080</td>\n",
       "      <td>2016</td>\n",
       "      <td>2017</td>\n",
       "      <td>MU</td>\n",
       "      <td>339080</td>\n",
       "      <td>-121.995774</td>\n",
       "      <td>37.334574</td>\n",
       "      <td>324</td>\n",
       "    </tr>\n",
       "    <tr>\n",
       "      <th>324</th>\n",
       "      <td>COUNTY OF LOS ANGELES AUDITOR CONTROLLER</td>\n",
       "      <td>1336154020</td>\n",
       "      <td>50717</td>\n",
       "      <td>Acute Care Hospitals</td>\n",
       "      <td>7601 E IMPERIAL HWY</td>\n",
       "      <td>DOWNEY</td>\n",
       "      <td>Los Angeles</td>\n",
       "      <td>CA</td>\n",
       "      <td>90242</td>\n",
       "      <td>2</td>\n",
       "      <td>Medicare/Medicaid</td>\n",
       "      <td>3686626</td>\n",
       "      <td>2016</td>\n",
       "      <td>2018</td>\n",
       "      <td>MU</td>\n",
       "      <td>1382485</td>\n",
       "      <td>-118.156423</td>\n",
       "      <td>33.926359</td>\n",
       "      <td>325</td>\n",
       "    </tr>\n",
       "    <tr>\n",
       "      <th>325</th>\n",
       "      <td>REEDLEY COMMUNITY HOSPITAL</td>\n",
       "      <td>1336167550</td>\n",
       "      <td>50192</td>\n",
       "      <td>Acute Care Hospitals</td>\n",
       "      <td>372 W CYPRESS AVE</td>\n",
       "      <td>REEDLEY</td>\n",
       "      <td>Fresno</td>\n",
       "      <td>CA</td>\n",
       "      <td>93654</td>\n",
       "      <td>3</td>\n",
       "      <td>Medicare/Medicaid</td>\n",
       "      <td>2520247</td>\n",
       "      <td>2015</td>\n",
       "      <td>2018</td>\n",
       "      <td>MU</td>\n",
       "      <td>280027</td>\n",
       "      <td>-119.451265</td>\n",
       "      <td>36.607796</td>\n",
       "      <td>326</td>\n",
       "    </tr>\n",
       "    <tr>\n",
       "      <th>326</th>\n",
       "      <td>PROVIDENCE HEALTH SYSTEM-SOUTHERN CALIFORNIA</td>\n",
       "      <td>1336173269</td>\n",
       "      <td>50235</td>\n",
       "      <td>Acute Care Hospitals</td>\n",
       "      <td>501 S BUENA VISTA</td>\n",
       "      <td>BURBANK</td>\n",
       "      <td>Los Angeles</td>\n",
       "      <td>CA</td>\n",
       "      <td>91505</td>\n",
       "      <td>4</td>\n",
       "      <td>Medicare/Medicaid</td>\n",
       "      <td>2326084</td>\n",
       "      <td>2014</td>\n",
       "      <td>2015</td>\n",
       "      <td>MU</td>\n",
       "      <td>232608</td>\n",
       "      <td>-118.326997</td>\n",
       "      <td>34.155912</td>\n",
       "      <td>327</td>\n",
       "    </tr>\n",
       "    <tr>\n",
       "      <th>327</th>\n",
       "      <td>KAISER FOUNDATION HOSPITALS</td>\n",
       "      <td>1336294040</td>\n",
       "      <td>50411</td>\n",
       "      <td>Acute Care Hospitals</td>\n",
       "      <td>25825 S VERMONT AVE</td>\n",
       "      <td>HARBOR CITY</td>\n",
       "      <td>Los Angeles</td>\n",
       "      <td>CA</td>\n",
       "      <td>90710</td>\n",
       "      <td>2</td>\n",
       "      <td>Medicare/Medicaid</td>\n",
       "      <td>358649</td>\n",
       "      <td>2016</td>\n",
       "      <td>2018</td>\n",
       "      <td>MU</td>\n",
       "      <td>134493</td>\n",
       "      <td>-118.294040</td>\n",
       "      <td>33.788973</td>\n",
       "      <td>328</td>\n",
       "    </tr>\n",
       "  </tbody>\n",
       "</table>\n",
       "<p>328 rows × 19 columns</p>\n",
       "</div>"
      ],
      "text/plain": [
       "                                    Provider_Name         NPI    CCN  \\\n",
       "0                            Sutter Bay Hospitals  1659439834  50008   \n",
       "1    PRIME HEALTHCARE SERVICES - GARDEN GROVE LLC  1659538858  50230   \n",
       "2                          ST MARY MEDICAL CENTER  1669456299  50300   \n",
       "3                       MADERA COMMUNITY HOSPITAL  1669673646  50568   \n",
       "4                    Temecula Valley Hospital Inc  1679816201  50775   \n",
       "..                                            ...         ...    ...   \n",
       "323                   KAISER FOUNDATION HOSPITALS  1326119967  50071   \n",
       "324      COUNTY OF LOS ANGELES AUDITOR CONTROLLER  1336154020  50717   \n",
       "325                    REEDLEY COMMUNITY HOSPITAL  1336167550  50192   \n",
       "326  PROVIDENCE HEALTH SYSTEM-SOUTHERN CALIFORNIA  1336173269  50235   \n",
       "327                   KAISER FOUNDATION HOSPITALS  1336294040  50411   \n",
       "\n",
       "    Medicaid_EP_Hospital_Type           Street_Address           City  \\\n",
       "0        Acute Care Hospitals      CASTRO & DUBOCE STS  SAN FRANCISCO   \n",
       "1        Acute Care Hospitals  12601 GARDEN GROVE BLVD   GARDEN GROVE   \n",
       "2        Acute Care Hospitals      18300 US HIGHWAY 18   APPLE VALLEY   \n",
       "3        Acute Care Hospitals        1250 E ALMOND AVE         MADERA   \n",
       "4        Acute Care Hospitals      31700 TEMECULA PKWY       TEMECULA   \n",
       "..                        ...                      ...            ...   \n",
       "323      Acute Care Hospitals        700 LAWRENCE EXPY    SANTA CLARA   \n",
       "324      Acute Care Hospitals      7601 E IMPERIAL HWY         DOWNEY   \n",
       "325      Acute Care Hospitals        372 W CYPRESS AVE        REEDLEY   \n",
       "326      Acute Care Hospitals        501 S BUENA VISTA        BURBANK   \n",
       "327      Acute Care Hospitals      25825 S VERMONT AVE    HARBOR CITY   \n",
       "\n",
       "             County State  Zip_Code  Payment_Year_Number       Program_Type  \\\n",
       "0     San Francisco    CA     94114                    3  Medicare/Medicaid   \n",
       "1            Orange    CA     92843                    4  Medicare/Medicaid   \n",
       "2    San Bernardino    CA     92307                    3  Medicare/Medicaid   \n",
       "3            Madera    CA     93637                    4  Medicare/Medicaid   \n",
       "4         Riverside    CA     92592                    1  Medicare/Medicaid   \n",
       "..              ...   ...       ...                  ...                ...   \n",
       "323     Santa Clara    CA     95051                    1  Medicare/Medicaid   \n",
       "324     Los Angeles    CA     90242                    2  Medicare/Medicaid   \n",
       "325          Fresno    CA     93654                    3  Medicare/Medicaid   \n",
       "326     Los Angeles    CA     91505                    4  Medicare/Medicaid   \n",
       "327     Los Angeles    CA     90710                    2  Medicare/Medicaid   \n",
       "\n",
       "     Total_payments  Last_Program_Year  Last_Payment_Year  \\\n",
       "0            638474               2015               2017   \n",
       "1           3947489               2014               2015   \n",
       "2           3062645               2014               2015   \n",
       "3           2057365               2015               2016   \n",
       "4            474790               2016               2017   \n",
       "..              ...                ...                ...   \n",
       "323          339080               2016               2017   \n",
       "324         3686626               2016               2018   \n",
       "325         2520247               2015               2018   \n",
       "326         2326084               2014               2015   \n",
       "327          358649               2016               2018   \n",
       "\n",
       "    Last_Payment_Criteria  Most_Recent_Disbursement_Amount   LONGITUDE  \\\n",
       "0                      MU                            70942 -122.435802   \n",
       "1                      MU                           394749 -117.913856   \n",
       "2                      MU                           340294 -117.262672   \n",
       "3                      MU                           205737 -120.045618   \n",
       "4                     AIU                           474790 -117.117197   \n",
       "..                    ...                              ...         ...   \n",
       "323                    MU                           339080 -121.995774   \n",
       "324                    MU                          1382485 -118.156423   \n",
       "325                    MU                           280027 -119.451265   \n",
       "326                    MU                           232608 -118.326997   \n",
       "327                    MU                           134493 -118.294040   \n",
       "\n",
       "      LATITUDE  FID  \n",
       "0    37.769062    1  \n",
       "1    33.774499    2  \n",
       "2    34.539918    3  \n",
       "3    36.945447    4  \n",
       "4    33.470664    5  \n",
       "..         ...  ...  \n",
       "323  37.334574  324  \n",
       "324  33.926359  325  \n",
       "325  36.607796  326  \n",
       "326  34.155912  327  \n",
       "327  33.788973  328  \n",
       "\n",
       "[328 rows x 19 columns]"
      ]
     },
     "metadata": {},
     "output_type": "display_data"
    }
   ],
   "source": [
    "import pandas as pd\n",
    "url = 'http://dhcs-chhsagency.opendata.arcgis.com/datasets/8e4f3a0c75b9424d888d11c1f949cc32_0.csv'\n",
    "dhcs = pd.read_csv(url)\n",
    "display(dhcs)\n",
    "### SOLUTION GOES HERE\n"
   ]
  },
  {
   "cell_type": "code",
   "execution_count": 10,
   "metadata": {},
   "outputs": [],
   "source": [
    "dhcs.to_sql(MYTABLE, conn, index=False)"
   ]
  },
  {
   "cell_type": "code",
   "execution_count": 68,
   "metadata": {
    "nbgrader": {
     "grade": true,
     "grade_id": "q02-tests",
     "locked": true,
     "points": 5,
     "schema_version": 1,
     "solution": false
    }
   },
   "outputs": [],
   "source": [
    "dxyz = pd.read_sql_query('SELECT * FROM ' + MYTABLE, conn)\n",
    "assert(dxyz.shape == (328,19))\n",
    "assert(list(dxyz.columns) == ['Provider_Name', 'NPI', 'CCN',\n",
    "       'Medicaid_EP_Hospital_Type', 'Street_Address', 'City', 'County',\n",
    "       'State', 'Zip_Code', 'Payment_Year_Number', 'Program_Type',\n",
    "       'Total_payments', 'Last_Program_Year', 'Last_Payment_Year',\n",
    "       'Last_Payment_Criteria', 'Most_Recent_Disbursement_Amount', 'LONGITUDE',\n",
    "       'LATITUDE', 'FID'])\n",
    "# Provider_Name\tNPI\tCCN\tMedicaid_EP_Hospital_Type\tStreet_Address\tCity\tCounty\tState\tZip_Code\tPayment_Year_Number\tProgram_Type\tTotal_payments\t\n",
    "# Last_Program_Year\tLast_Payment_Year\tLast_Payment_Criteria\tMost_Recent_Disbursement_Amount\tLONGITUDE\tLATITUDE\tFID"
   ]
  },
  {
   "cell_type": "markdown",
   "metadata": {
    "nbgrader": {
     "grade": false,
     "grade_id": "q03-intro",
     "locked": true,
     "schema_version": 1,
     "solution": false
    }
   },
   "source": [
    "## PART 3: Combine with other data in the database\n",
    "\n",
    "In the database, there is an existing table called `population`.  We want to merge the DHCS datafile loaded above with the population data available in this other database table  The tables can be merged on `MYTABLE`'s `Zip_Code` field and `population`'s `zipcode` field.\n",
    "\n",
    "Note that not all `Zip_Codes` from your downloaded file have to be in the `population` table.  If they aren't, then I want you to eliminate the non-matching records.  That is, only keep the records that have a matching ZIP code in both sets of data.\n",
    "\n",
    "Answer the question:\n",
    "Which providers are located in the zipcode with the largest population?\n",
    "\n",
    "Put your answer in the form `answer = ['a', 'list', 'of', 'NPI', 'like', '1593042103]`"
   ]
  },
  {
   "cell_type": "code",
   "execution_count": 194,
   "metadata": {},
   "outputs": [],
   "source": [
    "pop_tbl = pd.read_sql_query(\"SELECT * FROM population\",conn)\n",
    "dhcs = dhcs.rename(columns={'Zip_Code': 'zipcode'})\n",
    "pop_tbl['zipcode'] = pd.to_numeric(pop_tbl['zipcode'])\n",
    "data2 = dhcs.merge(pop_tbl, how='inner')"
   ]
  },
  {
   "cell_type": "code",
   "execution_count": 191,
   "metadata": {},
   "outputs": [],
   "source": [
    "pd.options.display.max_rows\n",
    "pd.set_option('display.max_rows', 300)\n",
    "pd.options.display.max_columns\n",
    "pd.set_option('display.max_columns', 100)"
   ]
  },
  {
   "cell_type": "code",
   "execution_count": 217,
   "metadata": {},
   "outputs": [],
   "source": [
    "#display(data2)"
   ]
  },
  {
   "cell_type": "code",
   "execution_count": 96,
   "metadata": {
    "nbgrader": {
     "grade": false,
     "grade_id": "q03-solution",
     "locked": false,
     "schema_version": 1,
     "solution": true
    }
   },
   "outputs": [],
   "source": [
    "### SOLUTION GOES HERE\n",
    "import numpy as np\n",
    "\n",
    "pop_zip = pop_tbl.sort_values(by='population', ascending=False).reset_index()[['zipcode', 'population']]\n",
    "#display(pop_zip)\n",
    "zc = pop_zip.zipcode[0]\n",
    "answer = list(data2[data2['zipcode'] == zc]['NPI'].astype('str'))"
   ]
  },
  {
   "cell_type": "code",
   "execution_count": 97,
   "metadata": {},
   "outputs": [
    {
     "data": {
      "text/plain": [
       "['1194016923']"
      ]
     },
     "metadata": {},
     "output_type": "display_data"
    }
   ],
   "source": [
    "display(answer)"
   ]
  },
  {
   "cell_type": "code",
   "execution_count": 98,
   "metadata": {
    "nbgrader": {
     "grade": true,
     "grade_id": "q03-tests",
     "locked": true,
     "points": 5,
     "schema_version": 1,
     "solution": false
    }
   },
   "outputs": [],
   "source": [
    "assert(type(answer) == list)\n",
    "assert(answer == ['1194016923'])"
   ]
  },
  {
   "cell_type": "markdown",
   "metadata": {
    "nbgrader": {
     "grade": false,
     "grade_id": "q04-intro",
     "locked": true,
     "schema_version": 1,
     "solution": false
    }
   },
   "source": [
    "## PART 4: Total by hospital type\n",
    "\n",
    "This is a multistep process:\n",
    "* From our downloaded data file, compute the `Total payments` per ZIP code and Medicaid EP Hospital Type.\n",
    "* Then merge that with the `population` data to compute a `Total payments` per person.\n",
    "* Then average that across all of the `Medicaid EP Hospital Types` to get an average per persona payment for these type of hospital.\n",
    "\n",
    "Your answer should be in structure of a data frame with at least two columns:\n",
    "* Medicaid_EP_Hospital_Type\n",
    "* Avg_Pay_per_Capita"
   ]
  },
  {
   "cell_type": "code",
   "execution_count": 202,
   "metadata": {},
   "outputs": [],
   "source": [
    "#x = data2[data2['Medicaid_EP_Hospital_Type'] == 'Acute Care Hospitals'][['zipcode','Medicaid_EP_Hospital_Type','Provider_Name','Total_payments', 'population']]\n",
    "#y = data2[data2['Medicaid_EP_Hospital_Type'] == 'Children\\'s Hospitals'][['zipcode','Medicaid_EP_Hospital_Type','Provider_Name','Total_payments', 'population']]\n",
    "#display(x.merge(y,  right_on='zipcode', left_on='zipcode', how='inner'))\n",
    "#data2.groupby([\"zipcode\", \"Medicaid_EP_Hospital_Type\"]).agg({'Total_payments': 'sum'})"
   ]
  },
  {
   "cell_type": "code",
   "execution_count": 221,
   "metadata": {},
   "outputs": [],
   "source": [
    "Total_payment_sums = dhcs.groupby(['zipcode','Medicaid_EP_Hospital_Type'])['Total_payments'].sum().reset_index()\n",
    "#display(Total_payment_sums)"
   ]
  },
  {
   "cell_type": "code",
   "execution_count": 228,
   "metadata": {},
   "outputs": [],
   "source": [
    "#part4 = data2[['Provider_Name','zipcode','Medicaid_EP_Hospital_Type','Total_payments']]\n",
    "#part4['Avg_Pay_per_Capita'] = part4.loc[:,'Total_payments'] / part4.loc[:,'population']\n",
    "part4 = Total_payment_sums.merge(pop_tbl, how='inner')\n",
    "#display(part4.round(2))\n",
    "#display(pop_tbl)"
   ]
  },
  {
   "cell_type": "code",
   "execution_count": 232,
   "metadata": {
    "nbgrader": {
     "grade": false,
     "grade_id": "q04-solution",
     "locked": false,
     "schema_version": 1,
     "solution": true
    }
   },
   "outputs": [
    {
     "name": "stdout",
     "output_type": "stream",
     "text": [
      "  Medicaid_EP_Hospital_Type  Avg_Pay_per_Capita\n",
      "0      Acute Care Hospitals           17974.363\n",
      "1      Children's Hospitals             111.559\n"
     ]
    }
   ],
   "source": [
    "### SOLUTION GOES HERE\n",
    "\n",
    "#answer = part4.groupby('Medicaid_EP_Hospital_Type')['Avg_Pay_per_Capita'].agg('mean')\n",
    "\n",
    "part4['Avg_Pay_per_Capita'] = part4.loc[:,'Total_payments'] / part4.loc[:,'population']\n",
    "answer = part4.groupby('Medicaid_EP_Hospital_Type')['Avg_Pay_per_Capita'].agg('mean').reset_index()\n",
    "\n",
    "print(answer.round(3))"
   ]
  },
  {
   "cell_type": "code",
   "execution_count": 238,
   "metadata": {},
   "outputs": [
    {
     "name": "stdout",
     "output_type": "stream",
     "text": [
      "\tEven though this is just for the purpose of an academic exercise and no one is actually using it, I still feel compelled to add clarifying statements to any data I present (can you tell I've spent a lot of time in biology labs?).\n",
      "      \n",
      "      As such, it must be noted that the 'per capita' part of the average pay per capita does not refer to any population of the hospital itself. Instead, the pay per capita is a measurement for each zip code of how many payments were made for a given hospital type within that zip code \\(summing all hospitals of a given type within the same zip code rather than calculating them as individual hospitals\\) divided by the number of people living in that zip code.\n",
      "      \n",
      "      So perhaps it would be best to describe is as the payments-to-hospital-type-in-zip-code-per-person-lliving-in-zip-code. And then the given average pay per capita is in fact an average of the aformentioned metric across zip codes, with all zip codes being weighted equally, and not adjusting for population.\n",
      "      \n",
      "      Trying to decipher the significance of this calculation will liekly keep me up at night.\n",
      "      \n"
     ]
    }
   ],
   "source": [
    "print(\"\"\"\tEven though this is just for the purpose of an academic exercise and no one is actually using it, I still feel compelled to add clarifying statements to any data I present (can you tell I've spent a lot of time in biology labs?).\n",
    "      \n",
    "      As such, it must be noted that the 'per capita' part of the average pay per capita does not refer to any population of the hospital itself. Instead, the pay per capita is a measurement for each zip code of how many payments were made for a given hospital type within that zip code \\(summing all hospitals of a given type within the same zip code rather than calculating them as individual hospitals\\) divided by the number of people living in that zip code.\n",
    "      \n",
    "      So perhaps it would be best to describe is as the payments-to-hospital-type-in-zip-code-per-person-living-in-zip-code. And then the given average pay per capita is in fact an average of the aformentioned metric across zip codes, with all zip codes being weighted equally, and not adjusting for population.\n",
    "      \n",
    "      Trying to decipher the significance of this calculation will likely keep me up at night.\n",
    "      \"\"\"\n",
    "      )"
   ]
  },
  {
   "cell_type": "code",
   "execution_count": 233,
   "metadata": {
    "nbgrader": {
     "grade": true,
     "grade_id": "q04-tests",
     "locked": true,
     "points": 5,
     "schema_version": 1,
     "solution": false
    }
   },
   "outputs": [],
   "source": [
    "assert(type(answer) == pd.core.frame.DataFrame)\n",
    "assert(round(answer.query(\"Medicaid_EP_Hospital_Type == 'Acute Care Hospitals'\")['Avg_Pay_per_Capita'].sum(),3) == 17974.363)\n",
    "assert(round(answer.query(\"Medicaid_EP_Hospital_Type == 'Children\\\\'s Hospitals'\")['Avg_Pay_per_Capita'].sum(),3) == 111.559)\n"
   ]
  }
 ],
 "metadata": {
  "celltoolbar": "Create Assignment",
  "kernelspec": {
   "display_name": "Python 3",
   "language": "python",
   "name": "python3"
  },
  "language_info": {
   "codemirror_mode": {
    "name": "ipython",
    "version": 3
   },
   "file_extension": ".py",
   "mimetype": "text/x-python",
   "name": "python",
   "nbconvert_exporter": "python",
   "pygments_lexer": "ipython3",
   "version": "3.6.7"
  }
 },
 "nbformat": 4,
 "nbformat_minor": 2
}
