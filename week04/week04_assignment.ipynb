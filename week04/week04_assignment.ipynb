{
 "cells": [
  {
   "cell_type": "markdown",
   "metadata": {
    "nbgrader": {
     "grade": false,
     "grade_id": "intro",
     "locked": true,
     "schema_version": 1,
     "solution": false
    }
   },
   "source": [
    "# Week 4 Exercises\n",
    "\n",
    "Modules 15 through 20 have all been about different built-in data types that can be used to create larger and more complex data structures.  We learned about tuples, lists, dictionaries, and how to access and process that data in new ways.\n"
   ]
  },
  {
   "cell_type": "markdown",
   "metadata": {},
   "source": [
    "### 15.1 Which of the following is **not** a true statement?\n",
    "\n",
    "> A) Tuples and Lists can both have items appended to the end of them\n",
    ">\n",
    "> B) The elements in both Tuples and Lists have a specific order \n",
    ">\n",
    "> C) Tuples and Lists can both be nested\n",
    ">\n",
    "> D) A Tuple can be concatenated to another Tuple using the `+` operator"
   ]
  },
  {
   "cell_type": "code",
   "execution_count": null,
   "metadata": {},
   "outputs": [],
   "source": [
    "answer151 = \"A\""
   ]
  },
  {
   "cell_type": "markdown",
   "metadata": {},
   "source": [
    "### 15.2 What does this code output?\n",
    "\n",
    "```python\n",
    "(a, b) = ('First', 'Second')\n",
    "(b, a) = (a, b)\n",
    "print(b)\n",
    "```\n",
    "\n",
    "> A) `First`\n",
    ">\n",
    "> B) `Second`\n",
    ">\n",
    "> C) `('First', 'Second')`\n",
    ">\n",
    "> D) _nothing_"
   ]
  },
  {
   "cell_type": "code",
   "execution_count": 4,
   "metadata": {},
   "outputs": [],
   "source": [
    "answer152 = \"A\""
   ]
  },
  {
   "cell_type": "markdown",
   "metadata": {},
   "source": [
    "### 15.3 What is the output of the following code?\n",
    "\n",
    "```python\n",
    "(a, b) = (['Paul','Alex','Linda','Kathy','Amit','Samira'], [41, 38, 30, 43, 41, 40, 34, 52])\n",
    "len(b)\n",
    "```\n",
    "\n",
    "> A) _Error_\n",
    ">\n",
    "> B) `6`\n",
    ">\n",
    "> C) `8`\n",
    ">\n",
    "> D) _None_"
   ]
  },
  {
   "cell_type": "code",
   "execution_count": 6,
   "metadata": {},
   "outputs": [],
   "source": [
    "answer153 = \"C\""
   ]
  },
  {
   "cell_type": "markdown",
   "metadata": {},
   "source": [
    "### 16.1 What is the output from the code below?\n",
    "\n",
    "```python\n",
    "dxs = [['COPD','CHF','MI'],['DVT','DBS'],['GI','CNC']]\n",
    "len(dxs[1])\n",
    "```\n",
    "\n",
    "> A) _Error_\n",
    ">\n",
    "> B) `3`\n",
    ">\n",
    "> C) `2`\n",
    ">\n",
    "> D) _None_"
   ]
  },
  {
   "cell_type": "code",
   "execution_count": 9,
   "metadata": {},
   "outputs": [],
   "source": [
    "answer161 = \"C\""
   ]
  },
  {
   "cell_type": "markdown",
   "metadata": {},
   "source": [
    "### 16.2 What will the resulting value of `vals` be?\n",
    "\n",
    "```python\n",
    "vals = [3.14, 1.41]\n",
    "vals.append([2.72])\n",
    "vals = vals + ['i']\n",
    "```\n",
    "\n",
    "> A) `[3.14, 1.41, 2.72, ['i']]`\n",
    ">\n",
    "> B) `[3.14, 1.41, [2.72], 'i']`\n",
    ">\n",
    "> C) `[3.14, 1.41, [2.72], ['i']]`\n",
    ">\n",
    "> D) `[3.14, 1.41, [2.72, 'i']`"
   ]
  },
  {
   "cell_type": "code",
   "execution_count": 15,
   "metadata": {},
   "outputs": [],
   "source": [
    "answer162 = \"B\""
   ]
  },
  {
   "cell_type": "markdown",
   "metadata": {},
   "source": [
    "### 16.3 Which of the following statements is **not** correct?\n",
    "\n",
    "\n",
    "> A) Lists can have other lists inside them\n",
    ">\n",
    "> B) When you create a list, you must specify how big it will be\n",
    ">\n",
    "> C) A list is an ordered set of objects\n",
    ">\n",
    "> D) list.sort() will sort the list in place without creating a copy"
   ]
  },
  {
   "cell_type": "code",
   "execution_count": 16,
   "metadata": {},
   "outputs": [],
   "source": [
    "answer163 = \"B\""
   ]
  },
  {
   "cell_type": "markdown",
   "metadata": {},
   "source": [
    "### 17.1 When you retrieve items from a dictionary in a **for** loop, in what order are they processed?\n",
    "\n",
    "> A) Ascending order each time\n",
    ">\n",
    "> B) An arbitary order that is the same each time as long as the dictionary doesn't change\n",
    ">\n",
    "> C) Descending order each time\n",
    ">\n",
    "> D) A different order that is completely random each time"
   ]
  },
  {
   "cell_type": "code",
   "execution_count": 25,
   "metadata": {},
   "outputs": [
    {
     "name": "stdout",
     "output_type": "stream",
     "text": [
      "B2\n",
      "H7\n",
      "C3\n",
      "E5\n",
      "F6\n",
      "A1\n",
      "D4\n",
      "\n",
      "\n",
      "{'B2': {'PatientID': 'E872839', 'Age': 32}, 'H7': {'PatientID': 'E989891', 'Age': 19}, 'C3': {'PatientID': 'E878198', 'Age': 19}, 'E5': {'PatientID': 'E143299', 'Age': 3}, 'F6': {'PatientID': 'E123332', 'Age': 21}, 'A1': {'PatientID': 'E143291', 'Age': 19}, 'D4': {'PatientID': 'E871111', 'Age': 21}}\n",
      "\n",
      "\n",
      "B2\n",
      "H7\n",
      "C3\n",
      "E5\n",
      "F6\n",
      "A1\n",
      "D4\n"
     ]
    }
   ],
   "source": [
    "answer171 = True\n",
    "#raise Exception('I recall you telling us that the dictionary would be random as it is not in a particular order. However, per this question, I do not believe D to be the correct answer as the order does not change since as of python 3.7 insertion order is maintained, based on my research into the matter. As such, B would seem to be a more accurate answer, though arbitrary would not seem to be entirely correct either, as it is distinctly the insertion order that is followed. See the code below, which stays in insertion order regardless of alphabetical order') \n",
    "\n",
    "subjects = {\n",
    "    \n",
    "    \"B2\": { \"PatientID\": \"E872839\", \"Age\": 32 },\n",
    "    \"H7\": { \"PatientID\": \"E989891\", \"Age\": 19 },\n",
    "    \"C3\": { \"PatientID\": \"E878198\", \"Age\": 19 },\n",
    "    \"E5\": { \"PatientID\": \"E143299\", \"Age\": 3  },\n",
    "    \"F6\": { \"PatientID\": \"E123332\", \"Age\": 21 },\n",
    "    \"A1\": { \"PatientID\": \"E143291\", \"Age\": 19 },\n",
    "    \"D4\": { \"PatientID\": \"E871111\", \"Age\": 21 }\n",
    "    \n",
    "}\n",
    "    \n",
    "for subject in subjects:\n",
    "    print(subject)\n",
    "    \n",
    "print('\\n')\n",
    "\n",
    "print(subjects)\n",
    "\n",
    "print('\\n')\n",
    "\n",
    "(subjects)\n",
    "\n",
    "\n",
    "for subject in subjects:\n",
    "    print(subject)"
   ]
  },
  {
   "cell_type": "markdown",
   "metadata": {},
   "source": [
    "### 17.2 What data types can be used for dictionary *keys*?\n",
    "\n",
    "> A) Only strings\n",
    ">\n",
    "> B) Strings or numbers\n",
    ">\n",
    "> C) Any data type at all\n",
    ">\n",
    "> D) Only those data types that are \"hashable\""
   ]
  },
  {
   "cell_type": "code",
   "execution_count": 26,
   "metadata": {},
   "outputs": [],
   "source": [
    "answer172 = \"D\""
   ]
  },
  {
   "cell_type": "markdown",
   "metadata": {},
   "source": [
    "### 17.3 Which of the following statements is False?\n",
    "\n",
    "\n",
    "> A) Dictionaries can contain lists\n",
    ">\n",
    "> B) Lists can contain dictionaries\n",
    ">\n",
    "> C) All dictionary keys must be strings\n",
    ">\n",
    "> D) Dictionaries can contain multiple entries for the same key"
   ]
  },
  {
   "cell_type": "code",
   "execution_count": 27,
   "metadata": {},
   "outputs": [],
   "source": [
    "answer173 = \"C\" # though I'm not so sure about D... you can set the same key multiple times, but wouldn't it just overwrite previous assignments, and not store multiple entries?"
   ]
  },
  {
   "cell_type": "markdown",
   "metadata": {},
   "source": [
    "**In the exercises below, don't worry about the `def` and other things around the code you need to write.  If there is a skeleton of code already there, just put your code where it says \"your solution here\"**"
   ]
  },
  {
   "cell_type": "markdown",
   "metadata": {
    "nbgrader": {
     "grade": false,
     "grade_id": "average",
     "locked": true,
     "schema_version": 1,
     "solution": false
    }
   },
   "source": [
    "### 20.1 Convert a list to a dictionary\n",
    "\n",
    "Take the list of lists below and convert it into a dictionary where the entries in the dictionary are keyed off of whatever values are in column 0, and the dictionary values are the list of all the values that appear with that key from the input list."
   ]
  },
  {
   "cell_type": "code",
   "execution_count": 44,
   "metadata": {
    "nbgrader": {
     "grade": false,
     "grade_id": "average-answer",
     "locked": false,
     "schema_version": 1,
     "solution": true
    }
   },
   "outputs": [],
   "source": [
    "def list_to_dict():\n",
    "\n",
    "    names = [['Boal', 'Paul'],\n",
    "             ['Duck', 'Donald'],\n",
    "             ['Duck', 'Daisy'],\n",
    "             ['Boal', 'Ada'],\n",
    "             ['Boal', 'Teddy'],\n",
    "             ['Westhus', 'Eric']]\n",
    "\n",
    "    # To help you, I've provided a blank dictionary named `families`.\n",
    "    families = {}\n",
    "    last_names = set()\n",
    "    # Your code should loop through `names` and do something to build\n",
    "    # up `families` to be the output dictionary shown in the test\n",
    "    # cells below.\n",
    "\n",
    "    ### BEGIN SOLUTION\n",
    "    for last_name in names:\n",
    "        last_names.add(last_name[0])\n",
    "    \n",
    "    for last_name in last_names:\n",
    "        families[last_name] = list()\n",
    "    \n",
    "    for name in names:\n",
    "        last_name = name[0]\n",
    "        families[last_name] = families[last_name] + [name[1]]\n",
    "        \n",
    "    ### END SOLUTION\n",
    "\n",
    "    return families\n"
   ]
  },
  {
   "cell_type": "code",
   "execution_count": 45,
   "metadata": {},
   "outputs": [
    {
     "data": {
      "text/plain": [
       "{'Boal': ['Paul', 'Ada', 'Teddy'],\n",
       " 'Duck': ['Donald', 'Daisy'],\n",
       " 'Westhus': ['Eric']}"
      ]
     },
     "execution_count": 45,
     "metadata": {},
     "output_type": "execute_result"
    }
   ],
   "source": [
    "list_to_dict()"
   ]
  },
  {
   "cell_type": "code",
   "execution_count": 46,
   "metadata": {
    "nbgrader": {
     "grade": true,
     "grade_id": "average-tests",
     "locked": true,
     "points": 5,
     "schema_version": 1,
     "solution": false
    }
   },
   "outputs": [],
   "source": [
    "answer = {\n",
    " 'Boal':    ['Paul', 'Ada', 'Teddy'],\n",
    " 'Duck':    ['Donald', 'Daisy'],\n",
    " 'Westhus': ['Eric']\n",
    "}\n",
    "\n",
    "assert (list_to_dict() == answer)"
   ]
  },
  {
   "cell_type": "markdown",
   "metadata": {},
   "source": [
    "### 20.2 Join using a dictionary\n",
    "\n",
    "We have a list of patients, diagnosis, and length of stay.  We also have a dictionary that contains diagnosis and average length of stay.  Produce an output list that lists the patient and an indicator if the patient's stay was 'too long', 'too short', 'just right'"
   ]
  },
  {
   "cell_type": "code",
   "execution_count": 52,
   "metadata": {
    "nbgrader": {
     "grade": false,
     "grade_id": "cell-f3813e33810dc898",
     "locked": false,
     "schema_version": 1,
     "solution": true
    }
   },
   "outputs": [],
   "source": [
    "def patient_los(avg_los, patients):\n",
    "\n",
    "    conclusions = []\n",
    "    \n",
    "    ### BEGIN SOLUTION\n",
    "    \n",
    "    for patient in patients:\n",
    "        if patient[2] > avg_los[patient[1]]:\n",
    "            conclusion = \"too long\"\n",
    "        elif patient[2] < avg_los[patient[1]]:\n",
    "            conclusion = \"too short\"\n",
    "        elif patient[2] == avg_los[patient[1]]:\n",
    "            conclusion = \"just right\"\n",
    "            \n",
    "        conclusions = conclusions + [[patient[0] , conclusion]]\n",
    "    \n",
    "    ### END SOLUTION\n",
    "    \n",
    "    return conclusions"
   ]
  },
  {
   "cell_type": "code",
   "execution_count": 53,
   "metadata": {},
   "outputs": [
    {
     "data": {
      "text/plain": [
       "[['Boal', 'too short'],\n",
       " ['Boal', 'too long'],\n",
       " ['Jones', 'just right'],\n",
       " ['Ashbury', 'too short']]"
      ]
     },
     "execution_count": 53,
     "metadata": {},
     "output_type": "execute_result"
    }
   ],
   "source": [
    "avg_los = {\n",
    "    \"Hemolytic jaundice and perinatal jaundice\" : 2,\n",
    "    \"Medical examination/evaluation\" : 3.2,\n",
    "    \"Liveborn\" : 3.2,\n",
    "    \"Trauma to perineum and vulva\" : 2.1,\n",
    "    \"Normal pregnancy and/or delivery\" : 2,\n",
    "    \"Umbilical cord complication\" : 2.1,\n",
    "    \"Forceps delivery\" : 2.2,\n",
    "    \"Administrative/social admission\" : 4.2,\n",
    "    \"Prolonged pregnancy\" : 2.4,\n",
    "    \"Other complications of pregnancy\" : 2.5\n",
    "}\n",
    "\n",
    "patients = [\n",
    "    ['Boal', 'Medical examination/evaluation', 1.1],\n",
    "    ['Boal', 'Other complications of pregnancy', 3.3],\n",
    "    ['Jones', 'Liveborn', 3.2],\n",
    "    ['Ashbury', 'Forceps delivery', 2.0]\n",
    "]\n",
    "\n",
    "patient_los(avg_los, patients)"
   ]
  },
  {
   "cell_type": "code",
   "execution_count": 54,
   "metadata": {
    "nbgrader": {
     "grade": true,
     "grade_id": "cell-2af0a520bb56ee21",
     "locked": true,
     "points": 10,
     "schema_version": 1,
     "solution": false
    }
   },
   "outputs": [],
   "source": [
    "conclusions = [['Boal', 'too short'],\n",
    "    ['Boal', 'too long'],\n",
    "    ['Jones', 'just right'],\n",
    "    ['Ashbury', 'too short']]\n",
    "\n",
    "assert(patient_los(avg_los, patients) == conclusions)"
   ]
  }
 ],
 "metadata": {
  "celltoolbar": "Create Assignment",
  "kernelspec": {
   "display_name": "Python 3",
   "language": "python",
   "name": "python3"
  },
  "language_info": {
   "codemirror_mode": {
    "name": "ipython",
    "version": 3
   },
   "file_extension": ".py",
   "mimetype": "text/x-python",
   "name": "python",
   "nbconvert_exporter": "python",
   "pygments_lexer": "ipython3",
   "version": "3.6.7"
  }
 },
 "nbformat": 4,
 "nbformat_minor": 2
}
